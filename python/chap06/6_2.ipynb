{
 "cells": [
  {
   "cell_type": "markdown",
   "metadata": {},
   "source": [
    "#### 문제 정의"
   ]
  },
  {
   "cell_type": "markdown",
   "metadata": {},
   "source": [
    "카운팅 정렬"
   ]
  },
  {
   "cell_type": "markdown",
   "metadata": {},
   "source": [
    "#### 알고리즘 개요"
   ]
  },
  {
   "cell_type": "markdown",
   "metadata": {},
   "source": [
    "1. 임시 리스트를 생성\n",
    "2. 각 숫자의 빈도를 저장\n",
    "3. 각 숫자별 빈도를 저장\n",
    "4. count[i]가 출력 배열에서 해당 숫자의 위치가 되도록 수정\n",
    "5. 모든 입력항목 A[i]에 대해 지정한 위치에 저장후 킷값의 위치를 하나 줄임\n",
    "6. 정렬 결과를 원래 배열에 복사"
   ]
  },
  {
   "cell_type": "markdown",
   "metadata": {},
   "source": [
    "#### 손으로 푼 예제"
   ]
  },
  {
   "cell_type": "markdown",
   "metadata": {
    "vscode": {
     "languageId": "plaintext"
    }
   },
   "source": [
    "![poster](./6_2.jpg)"
   ]
  },
  {
   "cell_type": "markdown",
   "metadata": {},
   "source": [
    "#### 코드 개요"
   ]
  },
  {
   "cell_type": "markdown",
   "metadata": {},
   "source": [
    "1. 인자로 받은 리스트의 길이 만큼 임시 리스트를 선언\n",
    "2. 각 숫자의 빈도를 저장할 변수 선언\n",
    "3. 각 숫자별 빈도를 루프로 계산\n",
    "4. count[i]가 출력 배열에서 count[i] += count[i-1]의 위치가 되도록 수정\n",
    "5. 모든 입력항목 A[i]에 대해 count[A[i]-1]위치에 저장 후 킷값인 A[i]의 위치를 하나 줄임\n",
    "6. 정렬 결과를 원래 배열에 복사"
   ]
  },
  {
   "cell_type": "code",
   "execution_count": null,
   "metadata": {},
   "outputs": [],
   "source": [
    "def counting_sort(A):\n",
    "    output = [0] * len(A)\n",
    "    count = [0] * MAX_VAL\n",
    "    \n",
    "    for i in A:\n",
    "        count[i] += 1\n",
    "        \n",
    "    for i in range(MAX_VAL):\n",
    "        count[i]+=count[i-1]\n",
    "        \n",
    "    for i in range(len(A)):\n",
    "        output[count[A[i]]-1] = A[i]\n",
    "        count[A[i]] -= 1\n",
    "            \n",
    "    for i in range(len(A)):\n",
    "        A[i] = output[i]"
   ]
  },
  {
   "cell_type": "code",
   "execution_count": null,
   "metadata": {},
   "outputs": [],
   "source": [
    "def counting_sort(A):\n",
    "    output = [0] * len(A)\n",
    "    count = [0] * MAX_VAL\n",
    "    \n",
    "    for i in A:\n",
    "        count[i] += 1\n",
    "        \n",
    "    for i in range(MAX_VAL):\n",
    "        count[i]+=count[i-1]\n",
    "        \n",
    "    for i in range(len(A)):\n",
    "        output[count[A[i]]-1] = A[i]\n",
    "        count[A[i]] -= 1\n",
    "            \n",
    "    for i in range(len(A)):\n",
    "        A[i] = output[i]\n",
    "    \n",
    "MAX_VAL = 10\n",
    "data = [1, 4, 1, 2, 7, 5, 2]\n",
    "print(\"Original : \", data)\n",
    "counting_sort(data)\n",
    "print(\"Counting : \", data)"
   ]
  },
  {
   "cell_type": "markdown",
   "metadata": {},
   "source": [
    "#### 출력 결과"
   ]
  },
  {
   "cell_type": "markdown",
   "metadata": {},
   "source": [
    "![poster](./6_2_re.jpg)"
   ]
  },
  {
   "cell_type": "markdown",
   "metadata": {},
   "source": [
    "#### 시간 복잡도"
   ]
  },
  {
   "cell_type": "markdown",
   "metadata": {},
   "source": [
    "O(n)"
   ]
  }
 ],
 "metadata": {
  "language_info": {
   "name": "python"
  }
 },
 "nbformat": 4,
 "nbformat_minor": 2
}
