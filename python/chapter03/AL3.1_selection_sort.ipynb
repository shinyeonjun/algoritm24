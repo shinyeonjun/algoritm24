{
 "cells": [
  {
   "cell_type": "markdown",
   "metadata": {},
   "source": [
    "#### (문제 정의)\n",
    "2차원 평면상에 n개의 점이 이싿. 가장 인접한 쌍의 거리를 구하라."
   ]
  },
  {
   "cell_type": "markdown",
   "metadata": {},
   "source": [
    "#### (알고리즘 설명)\n",
    "1. 주어진 점들을 받아옵니다.\n",
    "2. 주어진 점들의 모든 쌍에 대해 유클리드 거리를 계산합니다.\n",
    "3. 계산된 거리 중 가장 작은 값을 찾아 반환합니다."
   ]
  },
  {
   "cell_type": "markdown",
   "metadata": {},
   "source": [
    "#### (손으로 푼 예제)\n",
    "![poster](./pro.jpg)"
   ]
  },
  {
   "cell_type": "markdown",
   "metadata": {},
   "source": [
    "#### (알고리즘 개요)\n",
    "1. 변수 n에 2차원 배열 p의 길이를 저장한다.\n",
    "2. midist 변수의 초기값을 무한대로 저장한다.\n",
    "3. 2중 반복문을 이용하여 distance 함수(distance 함수는 좌표 (xi,yi) 2개를 입력 받아 유클리드 거리를 이용하여 값을 반환한다.)를 이용하여\n",
    "변수 dist에 값을 저장한다.\n",
    "4. dist의 값과 midist의 값을 비교하여 더 작은 값을 midist에 저장한다.\n",
    "5. 최솟값이 저장되어 있는 mdist의 값을 반환한다.\n"
   ]
  },
  {
   "cell_type": "code",
   "execution_count": null,
   "metadata": {},
   "outputs": [],
   "source": [
    "import math\n",
    "\n",
    "def distance(x, y) :\n",
    "    x1, y1 = x\n",
    "    x2, y2 = y\n",
    "    return math.sqrt(math.pow(x1 - x2, 2) + math.pow(y1 - y2, 2))\n",
    "\n",
    "def closest_pair (p): # p는 2차원 배열\n",
    "    n = len(p)\n",
    "    midist = float(\"inf\") # 리스트 무한대로 저장\n",
    "    for i in range(n-1) :\n",
    "        for j in range(i+1, n) :\n",
    "            dist = distance(p[i], p[j])\n",
    "            if dist < midist: # 거리를 비교하여 최솟값 저장\n",
    "                midist = dist\n",
    "    return midist # 최솟값 변수 반환\n"
   ]
  },
  {
   "cell_type": "code",
   "execution_count": null,
   "metadata": {},
   "outputs": [],
   "source": [
    "import math\n",
    "import random\n",
    "\n",
    "def distance(x, y) :\n",
    "    x1, y1 = x\n",
    "    x2, y2 = y\n",
    "    return math.sqrt(math.pow(x1 - x2, 2) + math.pow(y1 - y2, 2))\n",
    "\n",
    "def closest_pair (p): # p는 2차원 배열\n",
    "    n = len(p)\n",
    "    midist = float(\"inf\")\n",
    "    for i in range(n-1) :\n",
    "        for j in range(i+1, n) :\n",
    "            dist = distance(p[i], p[j])\n",
    "            if dist < midist:\n",
    "                midist = dist\n",
    "    return midist\n",
    "\n",
    "def main():\n",
    "    matrix = []\n",
    "    for i in range(10):\n",
    "        a = []\n",
    "        for j in range(2): \n",
    "            a.append(random.randint(1,20))\n",
    "        matrix.append(a)\n",
    "\n",
    "    print(closest_pair(matrix))\n",
    "\n",
    "    return 0\n",
    "\n",
    "main()"
   ]
  },
  {
   "cell_type": "markdown",
   "metadata": {},
   "source": [
    "#### (수행 결과)\n",
    "![poster](./스크린샷%202024-04-11%20145513.png)"
   ]
  },
  {
   "cell_type": "markdown",
   "metadata": {},
   "source": [
    "#### (복잡도 분석)\n",
    "1. distance함수는 산술연산자 밖에 없으므로 복잡도는 O(1)이다.\n",
    "2. closet.pair함수는 이중루프가 있고 내부에 distance함수가 있지만 distance 함수는 O(1)이므로 복잡도는 O(n^2)가 된다.\n",
    "3. main 함수는 closet.pair함수의 복잡도만 영향이 있으므로 O(n^2)이다.\n",
    "따라서 코드의 전체 복잡도는 O(n^2)이다."
   ]
  },
  {
   "cell_type": "markdown",
   "metadata": {},
   "source": [
    "#### (작성자 & 조별 협력 내용)\n",
    "1. 작성자: 신연준(202110763)\n",
    "2. 조별 협력 내용: closet.pair의 함수 작성중 어려움이 있어 토의를 통해 결과를 도출해냄."
   ]
  }
 ],
 "metadata": {
  "language_info": {
   "name": "python"
  }
 },
 "nbformat": 4,
 "nbformat_minor": 2
}
