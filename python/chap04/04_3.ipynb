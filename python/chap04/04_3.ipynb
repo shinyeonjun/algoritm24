{
 "cells": [
  {
   "cell_type": "markdown",
   "metadata": {},
   "source": [
    "#### 문제 정의 "
   ]
  },
  {
   "cell_type": "markdown",
   "metadata": {},
   "source": [
    "퀵 정렬"
   ]
  },
  {
   "cell_type": "markdown",
   "metadata": {},
   "source": [
    "#### 알고리즘 설명"
   ]
  },
  {
   "cell_type": "markdown",
   "metadata": {},
   "source": [
    "1. 좌우로 분할\n",
    "2. 왼쪽 부분 퀵 정렬\n",
    "3. 오른쪽 부분 퀵 정렬"
   ]
  },
  {
   "cell_type": "markdown",
   "metadata": {},
   "source": [
    "#### 손으로 푼 예제"
   ]
  },
  {
   "cell_type": "markdown",
   "metadata": {},
   "source": [
    "![poster](./04_3.jpg)"
   ]
  },
  {
   "cell_type": "markdown",
   "metadata": {},
   "source": [
    "#### 코드 개요"
   ]
  },
  {
   "cell_type": "markdown",
   "metadata": {},
   "source": [
    "1. 리스트 A와 왼쪽의 피벗 인덱스, 오른쪽의 피벗 인덱스를 인자로 받음\n",
    "2. 정렬범위가 2개 이상이면 좌우로 분할\n",
    "3. 왼쪽, 오른쪽 부분 리스트를 퀵 정렬"
   ]
  },
  {
   "cell_type": "code",
   "execution_count": null,
   "metadata": {},
   "outputs": [],
   "source": [
    "def quick_sort(A, left, right) :\n",
    "    if left < right :\n",
    "        mid = partition(A, left, right)\n",
    "        quick_sort(A, left, mid - 1)\n",
    "        quick_sort(A, mid+1, right)"
   ]
  },
  {
   "cell_type": "code",
   "execution_count": null,
   "metadata": {},
   "outputs": [],
   "source": [
    "def quick_sort(A, left, right) :\n",
    "    if left < right :\n",
    "        mid = partition(A, left, right)\n",
    "        quick_sort(A, left, mid - 1)\n",
    "        quick_sort(A, mid+1, right)\n",
    "\n",
    "def partition(A, left, right) :\n",
    "    pivot = A[right]\n",
    "    i = left - 1\n",
    "    j = left\n",
    "    while A[j] != pivot :\n",
    "        if A[j] < pivot :\n",
    "            i += 1\n",
    "            A[i], A[j] = A[j], A[i]\n",
    "            j += 1\n",
    "        elif A[j] > pivot :\n",
    "            j += 1\n",
    "\n",
    "    A[i+1], A[right] = A[right], A[i+1]\n",
    "            \n",
    "    return i + 1\n",
    "\n",
    "data = [5, 3, 8, 4, 9, 1, 6, 2, 7]\n",
    "print(\"Original : \",data)\n",
    "quick_sort(data, 0, len(data)- 1)\n",
    "print(\"QuickSort : \", data)\n",
    "    "
   ]
  },
  {
   "cell_type": "markdown",
   "metadata": {},
   "source": [
    "#### 수행 결과"
   ]
  },
  {
   "cell_type": "markdown",
   "metadata": {},
   "source": [
    "![poster](./04_3_re.jpg)"
   ]
  },
  {
   "cell_type": "markdown",
   "metadata": {},
   "source": [
    "#### 복잡도 계산"
   ]
  },
  {
   "cell_type": "markdown",
   "metadata": {},
   "source": [
    "평균: O(nlogn)  \n",
    "최악: O(n^2)"
   ]
  }
 ],
 "metadata": {
  "language_info": {
   "name": "python"
  }
 },
 "nbformat": 4,
 "nbformat_minor": 2
}
