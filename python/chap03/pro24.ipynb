{
 "cells": [
  {
   "cell_type": "markdown",
   "metadata": {},
   "source": [
    "![poster](./24.jpg)"
   ]
  },
  {
   "cell_type": "markdown",
   "metadata": {},
   "source": [
    " (1) 이 그래프에 대한 깊이 우선 탐색 알고리즘을 구현하라.\n"
   ]
  },
  {
   "cell_type": "code",
   "execution_count": null,
   "metadata": {},
   "outputs": [],
   "source": [
    "def dfs(vertex, adjMat, start, visited):\n",
    "  if start not in visited:\n",
    "      visited.add(start)\n",
    "      print(start, end=' ')\n",
    "      start_index = vertex.index(start)\n",
    "      for i in range(len(vertex)):\n",
    "          if adjMat[start_index][i] == 1:\n",
    "              next_vertex = vertex[i]\n",
    "              dfs(vertex, adjMat, next_vertex, visited)"
   ]
  },
  {
   "cell_type": "markdown",
   "metadata": {},
   "source": [
    "(2) 이 그래프에 대한 너비 우선 탐색 알고리즘을 구현하라."
   ]
  },
  {
   "cell_type": "code",
   "execution_count": null,
   "metadata": {},
   "outputs": [],
   "source": [
    "import queue\n",
    "\n",
    "def bfs(vertex, adjMat, start) :\n",
    "    visited = { start }\n",
    "    que = queue.Queue()\n",
    "    que.put(start)\n",
    "    while not que.empty() :\n",
    "        v = que.get()\n",
    "        print(v, end=' ')\n",
    "        v_index = vertex.index(v)\n",
    "        for u_index in range(len(vertex)):\n",
    "            if adjMat[v_index][u_index] == 1 and vertex[u_index] not in visited:\n",
    "                visited.add(vertex[u_index])\n",
    "                que.put(vertex[u_index])"
   ]
  }
 ],
 "metadata": {
  "language_info": {
   "name": "python"
  }
 },
 "nbformat": 4,
 "nbformat_minor": 2
}
