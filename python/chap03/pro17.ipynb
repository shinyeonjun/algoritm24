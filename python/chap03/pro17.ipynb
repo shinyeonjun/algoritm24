{
 "cells": [
  {
   "cell_type": "markdown",
   "metadata": {},
   "source": [
    "#### 17. 16번 문제에서 설계한 알고리즘을 바탕으로 외판원 문제에 대한 억지기법알고리즘을 작성하고 간단한 그래프에 대해 테스트하라."
   ]
  },
  {
   "cell_type": "code",
   "execution_count": null,
   "metadata": {},
   "outputs": [],
   "source": [
    "def dfs(graph, v, visited, path, n):\n",
    "    visited[v] = True\n",
    "    path.append(v)\n",
    "    if len(path) == n:\n",
    "        if graph[path[-1]][path[0]] == 1: \n",
    "            return path\n",
    "        else:\n",
    "            path.pop()\n",
    "            visited[v] = False\n",
    "            return None\n",
    "\n",
    "    for u in range(n):\n",
    "        if graph[v][u] == 1 and not visited[u]:\n",
    "            result = dfs(graph, u, visited, path, n)\n",
    "            if result:\n",
    "                return result\n",
    "    path.pop()\n",
    "    visited[v] = False\n",
    "    return None\n",
    "\n",
    "def find_cycle(graph):\n",
    "    n = len(graph)\n",
    "    visited = [False] * n\n",
    "    path = []\n",
    "    cycle = None\n",
    "    for v in range(n):\n",
    "        cycle = dfs(graph, v, visited, path, n)\n",
    "        if cycle:\n",
    "            break\n",
    "    return cycle\n",
    "\n",
    "hamiltonian_cycle = find_hamiltonian_cycle(graph)\n",
    "if hamiltonian_cycle:\n",
    "    print(\"해밀토니안 사이클:\", hamiltonian_cycle)\n",
    "else:\n",
    "    print(\"해밀토니안 사이클이 존재하지 않습니다.\")"
   ]
  }
 ],
 "metadata": {
  "language_info": {
   "name": "python"
  }
 },
 "nbformat": 4,
 "nbformat_minor": 2
}
